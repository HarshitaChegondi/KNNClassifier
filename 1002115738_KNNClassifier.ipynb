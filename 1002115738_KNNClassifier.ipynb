{
 "cells": [
  {
   "cell_type": "markdown",
   "id": "e8c1268b",
   "metadata": {},
   "source": [
    "# PreProcess Data"
   ]
  },
  {
   "cell_type": "code",
   "execution_count": 144,
   "id": "cae9663a",
   "metadata": {},
   "outputs": [],
   "source": [
    "import pandas as pd\n",
    "from sklearn.preprocessing import LabelEncoder\n",
    "\n",
    "hrLink = 'HayesRoth/hayes-roth.data'\n",
    "\n",
    "hrDF = pd.read_csv(hrLink, header=None)\n",
    "hrDF = hrDF.apply(LabelEncoder().fit_transform)\n",
    "hrFeatures = hrDF.iloc[:, :-1].values.tolist()\n",
    "hrLabels = hrDF.iloc[:, -1].tolist()\n",
    "\n",
    "\n",
    "hrTestLink = 'HayesRoth/hayes-roth.test'\n",
    "\n",
    "hrDFTest = pd.read_csv(hrLink, header=None)\n",
    "hrDFTest = hrDFTest.apply(LabelEncoder().fit_transform)\n",
    "hrTestFeatures = hrDFTest.iloc[:, :-1].values.tolist()\n",
    "hrTestLabels = hrDF.iloc[:, -1].tolist()"
   ]
  },
  {
   "cell_type": "code",
   "execution_count": 40,
   "id": "e3110812",
   "metadata": {},
   "outputs": [],
   "source": [
    "import pandas as pd\n",
    "from sklearn.preprocessing import LabelEncoder\n",
    "\n",
    "carLink = 'CarEvaluation/car.data'\n",
    "\n",
    "carDF = pd.read_csv(carLink, header=None)\n",
    "carDF = carDF.apply(LabelEncoder().fit_transform)\n",
    "carFeatures = carDF.iloc[:, :-1].values.tolist()\n",
    "carLabels = carDF.iloc[:, -1].tolist()"
   ]
  },
  {
   "cell_type": "code",
   "execution_count": 41,
   "id": "c00be112",
   "metadata": {},
   "outputs": [],
   "source": [
    "import pandas as pd\n",
    "from sklearn.preprocessing import LabelEncoder\n",
    "\n",
    "cancerLink = 'BreastCancer/breast-cancer.data'\n",
    "\n",
    "cancerDF = pd.read_csv(cancerLink, header=None)\n",
    "cancerDF = cancerDF.apply(LabelEncoder().fit_transform)\n",
    "cancerFeatures = cancerDF.iloc[:, :-1].values.tolist()\n",
    "cancerLabels = cancerDF.iloc[:, -1].tolist()"
   ]
  },
  {
   "cell_type": "markdown",
   "id": "599ba12b",
   "metadata": {},
   "source": [
    "# KNN without SKLearn"
   ]
  },
  {
   "cell_type": "code",
   "execution_count": 192,
   "id": "230ba51c",
   "metadata": {},
   "outputs": [],
   "source": [
    "import random\n",
    "from heapq import nsmallest\n",
    "from collections import Counter\n",
    "from sklearn.neighbors import KNeighborsClassifier\n",
    "from sklearn.metrics import accuracy_score\n",
    "from sklearn.model_selection import train_test_split\n",
    "from sklearn.preprocessing import StandardScaler\n",
    "\n",
    "class KNNClassifier:\n",
    "    \n",
    "    def __init__(self, k=7, dis_metric='euclidean'):\n",
    "        self.k = k\n",
    "        self.dis_metric = dis_metric\n",
    "        self.train_data = []\n",
    "        self.train_labels = []\n",
    "    \n",
    "\n",
    "    def train(self, train_data, train_labels):\n",
    "        self.train_data = train_data\n",
    "        self.train_labels = train_labels\n",
    "        \n",
    "    def euclidean_distance(self, v1, v2):\n",
    "        if len(v1) != len(v2):\n",
    "            raise ValueError(\"Undefined for sequences of unequal length.\")\n",
    "        return sum((a - b) ** 2 for a, b in zip(v1, v2)) ** 0.5\n",
    "\n",
    "\n",
    "    def get_neighbors(self, test_row):\n",
    "        dis_metrics = {\n",
    "            'euclidean': self.euclidean_distance,\n",
    "        }\n",
    "        if self.dis_metric not in dis_metrics:\n",
    "            raise ValueError(\"Invalid distance metric\")\n",
    "        calc_distance = dis_metrics[self.dis_metric]\n",
    "        distances = [\n",
    "            (train_row, calc_distance(test_row, train_row), label)\n",
    "            for train_row, label in zip(self.train_data, self.train_labels)\n",
    "        ]\n",
    "        k_nearest = nsmallest(self.k, distances, key=lambda x: x[1])\n",
    "        return k_nearest\n",
    "\n",
    "\n",
    "    def predict(self, x_test):\n",
    "        predictions = []\n",
    "        for test_case in x_test:\n",
    "            neighbors = self.get_neighbors(test_case)\n",
    "            output = [row[-1] for row in neighbors]\n",
    "            prediction = Counter(output).most_common(1)[0][0]\n",
    "            predictions.append(prediction)\n",
    "        return predictions\n"
   ]
  },
  {
   "cell_type": "markdown",
   "id": "c259a1a4",
   "metadata": {},
   "source": [
    "# KFold cross validation"
   ]
  },
  {
   "cell_type": "code",
   "execution_count": 212,
   "id": "abc19fc3",
   "metadata": {},
   "outputs": [],
   "source": [
    "class kFoldCV:\n",
    "    def __init__(self, classifier):\n",
    "        self.classifier = classifier  \n",
    "    \n",
    "    def cross_val_split(self, dataset, num_folds):\n",
    "        data_split = []\n",
    "        data_copy = list(dataset)\n",
    "        fold_size = len(dataset) // num_folds\n",
    "        for _ in range(num_folds):\n",
    "            if fold_size <= len(data_copy):\n",
    "                fold = random.sample(data_copy, fold_size)\n",
    "            else:\n",
    "                fold = data_copy  # If the fold size is larger than the remaining data, use all the data\n",
    "            data_split.append(fold)\n",
    "            data_copy = [row for row in data_copy if row not in fold]\n",
    "        return data_split\n",
    "\n",
    "    def k_foldEvaluate(self, dataset, num_folds):\n",
    "        folds = self.cross_val_split(dataset, num_folds)\n",
    "        scores = []\n",
    "\n",
    "        for fold_number, fold in enumerate(folds, 1):  # Start fold_number at 1\n",
    "            train_set = [row for row in dataset if row not in fold]\n",
    "            test_set = [row for row in fold]\n",
    "            train_labels = [row[-1] for row in train_set]\n",
    "            train_set = [row[:-1] for row in train_set]\n",
    "            self.classifier.train(train_set, train_labels)\n",
    "            actual = [row[-1] for row in test_set]\n",
    "            test_set = [row[:-1] for row in test_set]\n",
    "            predicted = self.classifier.predict(test_set)\n",
    "            accuracy = self.calculate_accuracy(actual, predicted)\n",
    "            scores.append(accuracy)\n",
    "\n",
    "            print(f\"Fold {fold_number}: Accuracy = {accuracy:.2f}%\")\n",
    "\n",
    "       \n",
    "    def calculate_accuracy(self, actual, predicted):\n",
    "        assert len(actual) == len(predicted)\n",
    "        correct = sum(1 for a, p in zip(actual, predicted) if a == p)\n",
    "        return (correct / len(actual)) * 100.0"
   ]
  },
  {
   "cell_type": "code",
   "execution_count": 193,
   "id": "15b557bc",
   "metadata": {},
   "outputs": [],
   "source": [
    "def print_metrics(actual, predictions):\n",
    "    if actual is None or predictions is None:\n",
    "        print(\"Error: Both 'actual' and 'predictions' must be valid lists.\")\n",
    "        return\n",
    "    \n",
    "    assert len(actual) == len(predictions)\n",
    "    correct = sum(1 for a, p in zip(actual, predictions) if a == p)\n",
    "    accuracy = (correct / len(actual)) * 100.0\n",
    "    print(\"Accuracy of kNN model: {:.2f}%\".format(accuracy))\n",
    "    return accuracy"
   ]
  },
  {
   "cell_type": "markdown",
   "id": "4f7f6139",
   "metadata": {},
   "source": [
    "# Packages used for this KNN"
   ]
  },
  {
   "cell_type": "code",
   "execution_count": 227,
   "id": "31dedbee",
   "metadata": {},
   "outputs": [],
   "source": [
    "import numpy as np\n",
    "from sklearn.model_selection import KFold\n",
    "from sklearn.neighbors import KNeighborsClassifier\n",
    "from sklearn.metrics import accuracy_score\n",
    "from sklearn.preprocessing import StandardScaler\n",
    "\n",
    "\n",
    "import numpy as np\n",
    "from scipy import stats"
   ]
  },
  {
   "cell_type": "markdown",
   "id": "979b5d23",
   "metadata": {},
   "source": [
    "# Hayes Roth Dataset Accuracy"
   ]
  },
  {
   "cell_type": "code",
   "execution_count": 231,
   "id": "86fa5b13",
   "metadata": {},
   "outputs": [
    {
     "name": "stdout",
     "output_type": "stream",
     "text": [
      "Accuracy of kNN model: 59.26%\n",
      "Fold 1: Accuracy = 38.46%\n",
      "Fold 2: Accuracy = 38.46%\n",
      "Fold 3: Accuracy = 53.85%\n",
      "Fold 4: Accuracy = 38.46%\n",
      "Fold 5: Accuracy = 23.08%\n",
      "Fold 6: Accuracy = 38.46%\n",
      "Fold 7: Accuracy = 30.77%\n",
      "Fold 8: Accuracy = 30.77%\n",
      "Fold 9: Accuracy = 38.46%\n",
      "Fold 10: Accuracy = 46.15%\n",
      "Accuracy of kNN model using SKlearn: 44.44%\n",
      "Fold 1 Accuracy: 64.29%\n",
      "Fold 2 Accuracy: 42.86%\n",
      "Fold 3 Accuracy: 38.46%\n",
      "Fold 4 Accuracy: 53.85%\n",
      "Fold 5 Accuracy: 61.54%\n",
      "Fold 6 Accuracy: 46.15%\n",
      "Fold 7 Accuracy: 61.54%\n",
      "Fold 8 Accuracy: 38.46%\n",
      "Fold 9 Accuracy: 38.46%\n",
      "Fold 10 Accuracy: 53.85%\n"
     ]
    }
   ],
   "source": [
    "X_train, X_test, y_train, y_test = train_test_split(hrFeatures, hrLabels, test_size=0.2)\n",
    "knn = KNNClassifier()\n",
    "knn.train(X_train, y_train)\n",
    "hr_euc_pred = knn.predict(X_test)\n",
    "nosklearnAccuracyHR = print_metrics(y_test, hr_euc_pred)\n",
    "kfcv = kFoldCV(knn)\n",
    "kfcv.k_foldEvaluate(hrTestFeatures, 10)\n",
    "\n",
    "# SKlearn\n",
    "scaler = StandardScaler()\n",
    "X_train = scaler.fit_transform(X_train)\n",
    "X_test = scaler.transform(X_test)\n",
    "k = 3  # Number of neighbors\n",
    "knn_classifier = KNeighborsClassifier(n_neighbors=k)\n",
    "knn_classifier.fit(X_train, y_train)\n",
    "y_pred = knn_classifier.predict(X_test)\n",
    "sk_accuracy_HR = accuracy_score(y_test, y_pred)\n",
    "print(f\"Accuracy of kNN model using SKlearn: {sk_accuracy_HR * 100:.2f}%\")\n",
    "\n",
    "X = np.concatenate((X_train, X_test))\n",
    "y = np.concatenate((y_train, y_test))\n",
    "\n",
    "# Perform k-fold cross-validation\n",
    "num_folds = 10  # Number of folds\n",
    "kf = KFold(n_splits=num_folds, shuffle=True, random_state=42)\n",
    "\n",
    "scores = []\n",
    "\n",
    "for train_index, test_index in kf.split(X):\n",
    "    X_train_fold, X_test_fold = X[train_index], X[test_index]\n",
    "    y_train_fold, y_test_fold = y[train_index], y[test_index]\n",
    "\n",
    "    # Scale the data\n",
    "    X_train_fold = scaler.fit_transform(X_train_fold)\n",
    "    X_test_fold = scaler.transform(X_test_fold)\n",
    "\n",
    "    # Fit the classifier and make predictions\n",
    "    knn_classifier.fit(X_train_fold, y_train_fold)\n",
    "    y_pred_fold = knn_classifier.predict(X_test_fold)\n",
    "\n",
    "    # Calculate accuracy for this fold\n",
    "    accuracy = accuracy_score(y_test_fold, y_pred_fold)\n",
    "    scores.append(accuracy)\n",
    "\n",
    "# Print accuracy for each fold\n",
    "for i, accuracy in enumerate(scores, 1):\n",
    "    print(f\"Fold {i} Accuracy: {accuracy * 100:.2f}%\")\n"
   ]
  },
  {
   "cell_type": "markdown",
   "id": "ff7b6f50",
   "metadata": {},
   "source": [
    "# Car Evaluation Dataset Accuracy"
   ]
  },
  {
   "cell_type": "code",
   "execution_count": 233,
   "id": "a1e37082",
   "metadata": {},
   "outputs": [
    {
     "name": "stdout",
     "output_type": "stream",
     "text": [
      "Accuracy of kNN model: 91.91%\n",
      "Fold 1: Accuracy = 0.58%\n",
      "Fold 2: Accuracy = 0.58%\n",
      "Fold 3: Accuracy = 2.91%\n",
      "Fold 4: Accuracy = 1.74%\n",
      "Fold 5: Accuracy = 1.16%\n",
      "Fold 6: Accuracy = 2.33%\n",
      "Fold 7: Accuracy = 4.65%\n",
      "Fold 8: Accuracy = 2.33%\n",
      "Fold 9: Accuracy = 1.74%\n",
      "Fold 10: Accuracy = 5.81%\n",
      "Accuracy of kNN model using SKlearn: 91.62%\n",
      "Fold 1 Accuracy: 93.06%\n",
      "Fold 2 Accuracy: 83.82%\n",
      "Fold 3 Accuracy: 94.80%\n",
      "Fold 4 Accuracy: 84.97%\n",
      "Fold 5 Accuracy: 90.17%\n",
      "Fold 6 Accuracy: 91.33%\n",
      "Fold 7 Accuracy: 95.38%\n",
      "Fold 8 Accuracy: 84.97%\n",
      "Fold 9 Accuracy: 84.88%\n",
      "Fold 10 Accuracy: 92.44%\n"
     ]
    }
   ],
   "source": [
    "X_train, X_test, y_train, y_test = train_test_split(carFeatures, carLabels, test_size=0.2)\n",
    "knn = KNNClassifier()\n",
    "knn.train(X_train, y_train)\n",
    "car_euc_pred = knn.predict(X_test)\n",
    "nosklearnAccuracyCar = print_metrics(y_test, car_euc_pred)\n",
    "kfcv = kFoldCV(knn)\n",
    "kfcv.k_foldEvaluate(carFeatures, 10)\n",
    "\n",
    "# SKlearn\n",
    "scaler = StandardScaler()\n",
    "X_train = scaler.fit_transform(X_train)\n",
    "X_test = scaler.transform(X_test)\n",
    "k = 3  # Number of neighbors\n",
    "knn_classifier = KNeighborsClassifier(n_neighbors=k)\n",
    "knn_classifier.fit(X_train, y_train)\n",
    "y_pred = knn_classifier.predict(X_test)\n",
    "sk_accuracy_Car = accuracy_score(y_test, y_pred)\n",
    "print(f\"Accuracy of kNN model using SKlearn: {sk_accuracy_Car * 100:.2f}%\")\n",
    "\n",
    "\n",
    "X = np.concatenate((X_train, X_test))\n",
    "y = np.concatenate((y_train, y_test))\n",
    "\n",
    "# Perform k-fold cross-validation\n",
    "num_folds = 10  # Number of folds\n",
    "kf = KFold(n_splits=num_folds, shuffle=True, random_state=42)\n",
    "\n",
    "scores = []\n",
    "\n",
    "for train_index, test_index in kf.split(X):\n",
    "    X_train_fold, X_test_fold = X[train_index], X[test_index]\n",
    "    y_train_fold, y_test_fold = y[train_index], y[test_index]\n",
    "\n",
    "    # Scale the data\n",
    "    X_train_fold = scaler.fit_transform(X_train_fold)\n",
    "    X_test_fold = scaler.transform(X_test_fold)\n",
    "\n",
    "    # Fit the classifier and make predictions\n",
    "    knn_classifier.fit(X_train_fold, y_train_fold)\n",
    "    y_pred_fold = knn_classifier.predict(X_test_fold)\n",
    "\n",
    "    # Calculate accuracy for this fold\n",
    "    accuracy = accuracy_score(y_test_fold, y_pred_fold)\n",
    "    scores.append(accuracy)\n",
    "\n",
    "# Print accuracy for each fold\n",
    "for i, accuracy in enumerate(scores, 1):\n",
    "    print(f\"Fold {i} Accuracy: {accuracy * 100:.2f}%\")\n"
   ]
  },
  {
   "cell_type": "markdown",
   "id": "520aaff2",
   "metadata": {},
   "source": [
    "# Breast Cancer Dataset Accuracy"
   ]
  },
  {
   "cell_type": "code",
   "execution_count": 234,
   "id": "ddbd5c06",
   "metadata": {},
   "outputs": [
    {
     "name": "stdout",
     "output_type": "stream",
     "text": [
      "Accuracy of kNN model: 72.41%\n",
      "Fold 1: Accuracy = 28.57%\n",
      "Fold 2: Accuracy = 17.86%\n",
      "Fold 3: Accuracy = 32.14%\n",
      "Fold 4: Accuracy = 39.29%\n",
      "Fold 5: Accuracy = 46.43%\n",
      "Fold 6: Accuracy = 39.29%\n",
      "Fold 7: Accuracy = 25.00%\n",
      "Fold 8: Accuracy = 10.71%\n",
      "Fold 9: Accuracy = 32.14%\n",
      "Fold 10: Accuracy = 26.32%\n",
      "Accuracy of kNN model using SKlearn: 70.69%\n",
      "Fold 1 Accuracy: 79.31%\n",
      "Fold 2 Accuracy: 79.31%\n",
      "Fold 3 Accuracy: 75.86%\n",
      "Fold 4 Accuracy: 82.76%\n",
      "Fold 5 Accuracy: 58.62%\n",
      "Fold 6 Accuracy: 75.86%\n",
      "Fold 7 Accuracy: 64.29%\n",
      "Fold 8 Accuracy: 75.00%\n",
      "Fold 9 Accuracy: 82.14%\n",
      "Fold 10 Accuracy: 78.57%\n"
     ]
    }
   ],
   "source": [
    "X_train, X_test, y_train, y_test = train_test_split(cancerFeatures, cancerLabels, test_size=0.2)\n",
    "knn = KNNClassifier()\n",
    "knn.train(X_train, y_train)\n",
    "cancer_euc_pred = knn.predict(X_test)\n",
    "nosklearnAccuracyCancer = print_metrics(y_test, cancer_euc_pred)\n",
    "kfcv = kFoldCV(knn)\n",
    "kfcv.k_foldEvaluate(cancerFeatures, 10)\n",
    "\n",
    "# SKlearn\n",
    "scaler = StandardScaler()\n",
    "X_train = scaler.fit_transform(X_train)\n",
    "X_test = scaler.transform(X_test)\n",
    "k = 3  # Number of neighbors\n",
    "knn_classifier = KNeighborsClassifier(n_neighbors=k)\n",
    "knn_classifier.fit(X_train, y_train)\n",
    "y_pred = knn_classifier.predict(X_test)\n",
    "sk_accuracy_Cancer = accuracy_score(y_test, y_pred)\n",
    "print(f\"Accuracy of kNN model using SKlearn: {sk_accuracy_Cancer * 100:.2f}%\")\n",
    "\n",
    "\n",
    "X = np.concatenate((X_train, X_test))\n",
    "y = np.concatenate((y_train, y_test))\n",
    "\n",
    "# Perform k-fold cross-validation\n",
    "num_folds = 10  # Number of folds\n",
    "kf = KFold(n_splits=num_folds, shuffle=True, random_state=42)\n",
    "\n",
    "scores = []\n",
    "\n",
    "for train_index, test_index in kf.split(X):\n",
    "    X_train_fold, X_test_fold = X[train_index], X[test_index]\n",
    "    y_train_fold, y_test_fold = y[train_index], y[test_index]\n",
    "\n",
    "    # Scale the data\n",
    "    X_train_fold = scaler.fit_transform(X_train_fold)\n",
    "    X_test_fold = scaler.transform(X_test_fold)\n",
    "\n",
    "    # Fit the classifier and make predictions\n",
    "    knn_classifier.fit(X_train_fold, y_train_fold)\n",
    "    y_pred_fold = knn_classifier.predict(X_test_fold)\n",
    "\n",
    "    # Calculate accuracy for this fold\n",
    "    accuracy = accuracy_score(y_test_fold, y_pred_fold)\n",
    "    scores.append(accuracy)\n",
    "\n",
    "# Print accuracy for each fold\n",
    "for i, accuracy in enumerate(scores, 1):\n",
    "    print(f\"Fold {i} Accuracy: {accuracy * 100:.2f}%\")\n"
   ]
  },
  {
   "cell_type": "markdown",
   "id": "94fb9f06",
   "metadata": {},
   "source": [
    "# t-test"
   ]
  },
  {
   "cell_type": "code",
   "execution_count": 235,
   "id": "e50c4299",
   "metadata": {},
   "outputs": [
    {
     "name": "stdout",
     "output_type": "stream",
     "text": [
      "No significant difference between the groups.\n"
     ]
    }
   ],
   "source": [
    "import numpy as np\n",
    "from scipy import stats\n",
    "\n",
    "\n",
    "# Sample data for two groups\n",
    "normalKNN = [nosklearnAccuracyHR, nosklearnAccuracyCar, nosklearnAccuracyCancer]\n",
    "sklearnKNN = [sk_accuracy_HR*100, sk_accuracy_Car*100, sk_accuracy_Cancer*100]\n",
    "\n",
    "\n",
    "# Perform the independent samples t-test\n",
    "t_stat, p_value = stats.ttest_ind(normalKNN, sklearnKNN)\n",
    "\n",
    "# Check the p-value to determine significance\n",
    "if p_value < 0.05:  # 0.05 is a common significance level\n",
    "    print(\"A notable significant difference exists between the two groups.\")\n",
    "else:\n",
    "    print(\"No significant difference between the groups.\")\n"
   ]
  },
  {
   "cell_type": "markdown",
   "id": "9a759180",
   "metadata": {},
   "source": [
    "# Graphical Representation"
   ]
  },
  {
   "cell_type": "code",
   "execution_count": 236,
   "id": "4a376312",
   "metadata": {},
   "outputs": [
    {
     "data": {
      "image/png": "[encoded data removed]",
      "text/plain": [
       "<Figure size 640x480 with 1 Axes>"
      ]
     },
     "metadata": {},
     "output_type": "display_data"
    }
   ],
   "source": [
    "mu1, std1 = np.mean(normalKNN), np.std(normalKNN)\n",
    "x1 = np.linspace(mu1 - 3*std1, mu1 + 3*std1, 100)\n",
    "pdf1 = stats.norm.pdf(x1, mu1, std1)\n",
    "\n",
    "# Create a normal distribution curve for group2\n",
    "mu2, std2 = np.mean(sklearnKNN), np.std(sklearnKNN)\n",
    "x2 = np.linspace(mu2 - 3*std2, mu2 + 3*std2, 100)\n",
    "pdf2 = stats.norm.pdf(x2, mu2, std2)\n",
    "\n",
    "# Plot the curves\n",
    "plt.plot(x1, pdf1, label='normalKNN')\n",
    "plt.plot(x2, pdf2, label='sklearnKNN')\n",
    "plt.legend()\n",
    "\n",
    "plt.title('Normal Distribution Curves')\n",
    "plt.xlabel('Value')\n",
    "plt.ylabel('Probability Density')\n",
    "plt.show()"
   ]
  },
  {
   "cell_type": "code",
   "execution_count": null,
   "id": "81d54efa",
   "metadata": {},
   "outputs": [],
   "source": []
  }
 ],
 "metadata": {
  "kernelspec": {
   "display_name": "Python 3 (ipykernel)",
   "language": "python",
   "name": "python3"
  },
  "language_info": {
   "codemirror_mode": {
    "name": "ipython",
    "version": 3
   },
   "file_extension": ".py",
   "mimetype": "text/x-python",
   "name": "python",
   "nbconvert_exporter": "python",
   "pygments_lexer": "ipython3",
   "version": "3.11.2"
  }
 },
 "nbformat": 4,
 "nbformat_minor": 5
}
